{
  "nbformat": 4,
  "nbformat_minor": 0,
  "metadata": {
    "colab": {
      "name": "Tarefa8_DeteccaoMascara.ipynb",
      "provenance": [],
      "include_colab_link": true
    },
    "kernelspec": {
      "name": "python3",
      "display_name": "Python 3"
    },
    "language_info": {
      "name": "python"
    }
  },
  "cells": [
    {
      "cell_type": "markdown",
      "metadata": {
        "id": "view-in-github",
        "colab_type": "text"
      },
      "source": [
        "<a href=\"https://colab.research.google.com/github/jsansao/dlvc/blob/main/Tarefa8_DeteccaoMascara.ipynb\" target=\"_parent\"><img src=\"https://colab.research.google.com/assets/colab-badge.svg\" alt=\"Open In Colab\"/></a>"
      ]
    },
    {
      "cell_type": "markdown",
      "metadata": {
        "id": "U07-UEC09cPt"
      },
      "source": [
        "# Tarefa 8 - Detecção de máscaras com YOLOv5\n",
        "\n",
        "Nessa tarefa, treinaremos o YOLOv5 para detectar se as pessoas nas imagens estão portando ou não máscaras. \n",
        "\n",
        "Um conjunto segmentado, disponibilizado pela Roboflow e complementado com outras imagens encontradas na internet será utilizado. \n",
        "\n",
        "1. Você deverá treinar a rede conforme a Lição 16. \n",
        "2. Verifique o treinamento com as imagens do conjunto de teste \n",
        "3. Opcional - Teste o YOLOv5 com um vídeo do Youtube ou feito por você.  Compartilhe o link do vídeo. \n",
        "4. Opcional - Treine o modelo com YOLOv5n (nano YOLOv5, veja a lição 16bis)\n"
      ]
    },
    {
      "cell_type": "markdown",
      "metadata": {
        "id": "oz6FmLUs9Ug0"
      },
      "source": [
        "## Instalação e inicialização do YOLOv5"
      ]
    },
    {
      "cell_type": "code",
      "metadata": {
        "id": "AvYpMXxr9OWs"
      },
      "source": [
        "#clone YOLOv5 and \n",
        "!git clone https://github.com/ultralytics/yolov5  # clone repo\n",
        "%cd yolov5\n",
        "%pip install -qr requirements.txt # install dependencies\n",
        "%pip install -q roboflow\n",
        "\n",
        "import torch\n",
        "import os\n",
        "from IPython.display import Image, clear_output  # to display images\n",
        "\n",
        "print(f\"Setup complete. Using torch {torch.__version__} ({torch.cuda.get_device_properties(0).name if torch.cuda.is_available() else 'CPU'})\")"
      ],
      "execution_count": null,
      "outputs": []
    },
    {
      "cell_type": "code",
      "metadata": {
        "id": "3VurB9bk-AYa"
      },
      "source": [
        "!wget https://github.com/jsansao/MaskWearing_YoloV5/archive/refs/heads/main.zip -O Masks.zip\n",
        "!unzip Masks.zip -d /content/\n",
        "!mv /content/MaskWearing_YOLOv5-main/* /content/"
      ],
      "execution_count": null,
      "outputs": []
    },
    {
      "cell_type": "markdown",
      "metadata": {
        "id": "vwjHgNS2-4MA"
      },
      "source": [
        "## Treinamento "
      ]
    },
    {
      "cell_type": "code",
      "metadata": {
        "id": "pUNDolvz-6tq"
      },
      "source": [
        "# insira o código para treinamento, ver lição 16"
      ],
      "execution_count": null,
      "outputs": []
    },
    {
      "cell_type": "markdown",
      "metadata": {
        "id": "9FhbjHJZ_I2D"
      },
      "source": [
        "## Inferência do conjunto de teste"
      ]
    },
    {
      "cell_type": "code",
      "metadata": {
        "id": "ZiJBo_K9-9k6"
      },
      "source": [
        "# insira o código para inferência do conjunto de teste"
      ],
      "execution_count": null,
      "outputs": []
    },
    {
      "cell_type": "markdown",
      "metadata": {
        "id": "4g9BGNav_N8L"
      },
      "source": [
        "## Inferência no vídeo"
      ]
    },
    {
      "cell_type": "code",
      "metadata": {
        "id": "MNGB8GtC_D_w"
      },
      "source": [
        "# insira aqui o código par inferência do vídeo "
      ],
      "execution_count": null,
      "outputs": []
    }
  ]
}
